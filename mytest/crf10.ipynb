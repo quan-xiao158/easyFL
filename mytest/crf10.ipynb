{
 "cells": [
  {
   "cell_type": "code",
   "execution_count": null,
   "metadata": {
    "collapsed": true
   },
   "outputs": [],
   "source": [
    "import flgo\n",
    "import flgo.algorithm.fedavg as fedavg\n",
    "import flgo.benchmark.cifar10_classification as cifar10\n",
    "import flgo.benchmark.partition as fbp\n",
    "\n",
    "task = './dir0.3_cifar' # task name\n",
    "flgo.gen_task_by_(cifar10, fbp.DirichletPartitioner(num_clients=100, alpha=0.3), 'dir0.3_cifar')\n",
    "#100选20客户端\n",
    "\n",
    "if __name__ == '__main__':\n",
    "\n",
    "    fedavg_runner = flgo.init(task=task, algorithm=fedavg, option={'num_rounds': 100, 'num_epochs': 4, 'cpu': 0})\n",
    "    fedavg_runner.run()\n",
    "\n",
    "    import flgo.experiment.analyzer as al\n",
    "\n",
    "    analysis_plan = {\n",
    "        'Selector': {\n",
    "            'task': task,\n",
    "            'header': ['fedavg']\n",
    "        },\n",
    "        'Painter': {\n",
    "            'Curve': [\n",
    "                {'args': {'x': 'communication_round', 'y': 'val_loss'}, 'fig_option': {'title': 'valid loss on CRF10'}},\n",
    "                {'args': {'x': 'communication_round', 'y': 'val_accuracy'},\n",
    "                 'fig_option': {'title': 'valid accuracy on MNIST'}},\n",
    "            ]\n",
    "        }\n",
    "    }\n",
    "    al.show(analysis_plan)"
   ]
  }
 ],
 "metadata": {
  "kernelspec": {
   "display_name": "Python 3",
   "language": "python",
   "name": "python3"
  },
  "language_info": {
   "codemirror_mode": {
    "name": "ipython",
    "version": 2
   },
   "file_extension": ".py",
   "mimetype": "text/x-python",
   "name": "python",
   "nbconvert_exporter": "python",
   "pygments_lexer": "ipython2",
   "version": "2.7.6"
  }
 },
 "nbformat": 4,
 "nbformat_minor": 0
}
